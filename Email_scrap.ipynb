{
  "nbformat": 4,
  "nbformat_minor": 0,
  "metadata": {
    "colab": {
      "name": "Email scrap",
      "provenance": [],
      "authorship_tag": "ABX9TyMhkcVLkLjLFV6ZIudZhW3p",
      "include_colab_link": true
    },
    "kernelspec": {
      "name": "python3",
      "display_name": "Python 3"
    }
  },
  "cells": [
    {
      "cell_type": "markdown",
      "metadata": {
        "id": "view-in-github",
        "colab_type": "text"
      },
      "source": [
        "<a href=\"https://colab.research.google.com/github/Hasnainajmal/R_Programming/blob/master/Email_scrap.ipynb\" target=\"_parent\"><img src=\"https://colab.research.google.com/assets/colab-badge.svg\" alt=\"Open In Colab\"/></a>"
      ]
    },
    {
      "cell_type": "code",
      "metadata": {
        "id": "Lph_5RyNi8sd",
        "colab_type": "code",
        "colab": {}
      },
      "source": [
        "import re\n",
        "import requests\n",
        "from urllib.parse import urlsplit\n",
        "from collections import deque\n",
        "from bs4 import BeautifulSoup\n",
        "import pandas as pd"
      ],
      "execution_count": 1,
      "outputs": []
    },
    {
      "cell_type": "code",
      "metadata": {
        "id": "F4eKptC3VJZm",
        "colab_type": "code",
        "colab": {
          "base_uri": "https://localhost:8080/",
          "height": 51
        },
        "outputId": "24ce64f2-ba03-405a-8532-dae2f9da7bfb"
      },
      "source": [
        " \n",
        "import re\n",
        "import requests\n",
        "from urllib.parse import urlsplit\n",
        "from collections import deque\n",
        "from bs4 import BeautifulSoup\n",
        "import pandas as pd\n",
        "from google.colab import files\n",
        "\n",
        "original_url = input(\"Enter the website url: \") \n",
        "\n",
        "unscraped = deque([original_url])  \n",
        "\n",
        "scraped = set()  \n",
        "\n",
        "emails = set()  \n",
        "\n",
        "while len(unscraped):\n",
        "    url = unscraped.popleft()  \n",
        "    scraped.add(url)\n",
        "\n",
        "    parts = urlsplit(url)\n",
        "        \n",
        "    base_url = \"{0.scheme}://{0.netloc}\".format(parts)\n",
        "    if '/' in parts.path:\n",
        "      path = url[:url.rfind('/')+1]\n",
        "    else:\n",
        "      path = url\n",
        "\n",
        "    print(\"Crawling URL %s\" % url)\n",
        "    try:\n",
        "        response = requests.get(url)\n",
        "    except (requests.exceptions.MissingSchema, requests.exceptions.ConnectionError):\n",
        "        continue\n",
        "\n",
        "    new_emails = set(re.findall(r\"[a-z0-9\\.\\-+_]+@[a-z0-9\\.\\-+_]+\\.com\", response.text, re.I))\n",
        "    emails.update(new_emails) \n",
        "\n",
        "    soup = BeautifulSoup(response.text, 'lxml')\n",
        "\n",
        "    for anchor in soup.find_all(\"a\"):\n",
        "      if \"href\" in anchor.attrs:\n",
        "        link = anchor.attrs[\"href\"]\n",
        "      else:\n",
        "        link = ''\n",
        "\n",
        "        if link.startswith('/'):\n",
        "            link = base_url + link\n",
        "        \n",
        "        elif not link.startswith('http'):\n",
        "            link = path + link\n",
        "\n",
        "        if not link.endswith(\".gz\"):\n",
        "          if not link in unscraped and not link in scraped:\n",
        "              unscraped.append(link)\n",
        "\n",
        "df = pd.DataFrame(emails, columns=[\"Email\"])\n",
        "df.to_csv('email.csv', index=False)\n",
        "\n",
        "files.download(\"email.csv\")\n"
      ],
      "execution_count": 5,
      "outputs": [
        {
          "output_type": "stream",
          "text": [
            "Enter the website url: http://epiphany.com.pk/\n",
            "Crawling URL http://epiphany.com.pk/\n"
          ],
          "name": "stdout"
        },
        {
          "output_type": "display_data",
          "data": {
            "application/javascript": [
              "\n",
              "    async function download(id, filename, size) {\n",
              "      if (!google.colab.kernel.accessAllowed) {\n",
              "        return;\n",
              "      }\n",
              "      const div = document.createElement('div');\n",
              "      const label = document.createElement('label');\n",
              "      label.textContent = `Downloading \"${filename}\": `;\n",
              "      div.appendChild(label);\n",
              "      const progress = document.createElement('progress');\n",
              "      progress.max = size;\n",
              "      div.appendChild(progress);\n",
              "      document.body.appendChild(div);\n",
              "\n",
              "      const buffers = [];\n",
              "      let downloaded = 0;\n",
              "\n",
              "      const channel = await google.colab.kernel.comms.open(id);\n",
              "      // Send a message to notify the kernel that we're ready.\n",
              "      channel.send({})\n",
              "\n",
              "      for await (const message of channel.messages) {\n",
              "        // Send a message to notify the kernel that we're ready.\n",
              "        channel.send({})\n",
              "        if (message.buffers) {\n",
              "          for (const buffer of message.buffers) {\n",
              "            buffers.push(buffer);\n",
              "            downloaded += buffer.byteLength;\n",
              "            progress.value = downloaded;\n",
              "          }\n",
              "        }\n",
              "      }\n",
              "      const blob = new Blob(buffers, {type: 'application/binary'});\n",
              "      const a = document.createElement('a');\n",
              "      a.href = window.URL.createObjectURL(blob);\n",
              "      a.download = filename;\n",
              "      div.appendChild(a);\n",
              "      a.click();\n",
              "      div.remove();\n",
              "    }\n",
              "  "
            ],
            "text/plain": [
              "<IPython.core.display.Javascript object>"
            ]
          },
          "metadata": {
            "tags": []
          }
        },
        {
          "output_type": "display_data",
          "data": {
            "application/javascript": [
              "download(\"download_bc557a6a-5709-43a2-b6f8-6781d8a4ffdb\", \"email.csv\", 27)"
            ],
            "text/plain": [
              "<IPython.core.display.Javascript object>"
            ]
          },
          "metadata": {
            "tags": []
          }
        }
      ]
    },
    {
      "cell_type": "code",
      "metadata": {
        "id": "HGdmjo6qVSWc",
        "colab_type": "code",
        "colab": {}
      },
      "source": [
        ""
      ],
      "execution_count": null,
      "outputs": []
    }
  ]
}